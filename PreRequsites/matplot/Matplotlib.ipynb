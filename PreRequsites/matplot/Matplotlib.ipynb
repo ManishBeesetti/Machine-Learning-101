{
 "cells": [
  {
   "cell_type": "code",
   "execution_count": null,
   "metadata": {},
   "outputs": [],
   "source": [
    "import matplotlib.pyplot as plt"
   ]
  },
  {
   "cell_type": "markdown",
   "metadata": {},
   "source": [
    "# Line Plot"
   ]
  },
  {
   "cell_type": "code",
   "execution_count": null,
   "metadata": {},
   "outputs": [],
   "source": [
    "plt.plot([2,4,6,4])\n",
    "plt.ylabel(\"Numbers\")\n",
    "plt.xlabel(\"Indicies\")\n",
    "plt.title(\"Title\")\n",
    "plt.show()\n"
   ]
  },
  {
   "cell_type": "code",
   "execution_count": null,
   "metadata": {},
   "outputs": [],
   "source": [
    "plt.plot([1,2,3,4],[1,4,9,16])\n",
    "        #X-values   #Y-values\n",
    "\n",
    "plt.ylabel(\"Squares\")\n",
    "plt.xlabel(\"Numbers\")\n",
    "plt.title(\"Squares of numbers\")\n",
    "plt.grid() #to show grid\n",
    "\n",
    "plt.show()"
   ]
  },
  {
   "cell_type": "markdown",
   "metadata": {},
   "source": []
  },
  {
   "cell_type": "code",
   "execution_count": null,
   "metadata": {},
   "outputs": [],
   "source": [
    "plt.plot([1,2,3,4],[1,4,9,16],'ro')\n",
    "plt.grid()\n",
    "\n",
    "plt.show()"
   ]
  },
  {
   "cell_type": "code",
   "execution_count": null,
   "metadata": {},
   "outputs": [],
   "source": [
    "import numpy as np\n",
    "t = np.arange(0.,5.,0.2)\n",
    "\n",
    "plt.plot(t,t**2,'b--',label='^2')\n",
    "plt.plot(t,t**2.2,'rs',label='^2.2')\n",
    "plt.plot(t,t**2.5,'g^',label='^2.5')\n",
    "plt.grid()\n",
    "plt.legend() #legend provides us with the detailed view of lables with symbol used \n",
    "plt.show()"
   ]
  },
  {
   "cell_type": "code",
   "execution_count": null,
   "metadata": {},
   "outputs": [],
   "source": [
    "x = [1,2,3,4]\n",
    "y = [1,4,9,16]\n",
    "plt.plot(x,y,linewidth=5.0)#line width property\n",
    "plt.show()"
   ]
  },
  {
   "cell_type": "code",
   "execution_count": null,
   "metadata": {},
   "outputs": [],
   "source": [
    "x1 = [1,2,3,4]\n",
    "y1 = [1,4,9,16]\n",
    "x2 = [1,2,3,4]\n",
    "y2 = [2,4,6,8]\n",
    "\n",
    "lines = plt.plot(x1,y1,x2,y2)\n",
    "\n",
    "plt.setp(lines[0],color='r',linewidth=2.0)\n",
    "\n",
    "plt.setp(lines[1],'color','g','linewidth',2.0)\n",
    "\n",
    "plt.grid()"
   ]
  },
  {
   "cell_type": "code",
   "execution_count": null,
   "metadata": {},
   "outputs": [],
   "source": [
    "def f(t):\n",
    "    return np.exp(-t) + np.cos(2*np.pi*t)\n",
    "t1 = np.arange(0.0,5.0,0.1)\n",
    "t2 = np.arange(0.0,5.0,0.02)\n",
    "\n",
    "plt.figure(1)\n",
    "#the subplot() specifies numrows , numcols,\n",
    "#fignum where fignum ranges 1 to numrows*numcols.\n",
    "plt.subplot(211)\n",
    "plt.grid()\n",
    "plt.plot(t1,f(t1),'b-')\n",
    "\n",
    "plt.subplot(212)\n",
    "plt.plot(t2,np.cos(2*np.pi*t2),'r--')\n",
    "plt.show()"
   ]
  },
  {
   "cell_type": "code",
   "execution_count": null,
   "metadata": {},
   "outputs": [],
   "source": []
  }
 ],
 "metadata": {
  "kernelspec": {
   "display_name": "Python 3",
   "language": "python",
   "name": "python3"
  },
  "language_info": {
   "codemirror_mode": {
    "name": "ipython",
    "version": 3
   },
   "file_extension": ".py",
   "mimetype": "text/x-python",
   "name": "python",
   "nbconvert_exporter": "python",
   "pygments_lexer": "ipython3",
   "version": "3.6.5"
  }
 },
 "nbformat": 4,
 "nbformat_minor": 2
}
